{
 "cells": [
  {
   "cell_type": "code",
   "execution_count": 12,
   "id": "initial_id",
   "metadata": {
    "collapsed": true,
    "ExecuteTime": {
     "end_time": "2024-06-28T15:26:49.481503Z",
     "start_time": "2024-06-28T15:26:49.434455Z"
    }
   },
   "outputs": [],
   "source": [
    "import json\n",
    "import os\n",
    "\n",
    "from matplotlib import pyplot as plt \n",
    "from scipy.stats import bootstrap\n",
    "import numpy as np\n",
    "import pandas as pd\n",
    "import glob\n",
    "\n",
    "from tqdm import tqdm\n",
    "\n",
    "import warnings\n",
    "warnings.filterwarnings(\"ignore\")"
   ]
  },
  {
   "cell_type": "code",
   "execution_count": 13,
   "outputs": [],
   "source": [
    "START_DIR = os.path.join(\"./\", \"../Latent English\")"
   ],
   "metadata": {
    "collapsed": false,
    "ExecuteTime": {
     "end_time": "2024-06-28T15:26:49.482082Z",
     "start_time": "2024-06-28T15:26:49.437409Z"
    }
   },
   "id": "f4226f0f07e8d57c"
  },
  {
   "cell_type": "markdown",
   "source": [
    "# Plotting functions"
   ],
   "metadata": {
    "collapsed": false
   },
   "id": "6f211a3bd84ea86a"
  },
  {
   "cell_type": "markdown",
   "source": [
    "## Helpers"
   ],
   "metadata": {
    "collapsed": false
   },
   "id": "fb35abd9a574908c"
  },
  {
   "cell_type": "code",
   "execution_count": 14,
   "outputs": [],
   "source": [
    "plt.rcParams.update({\n",
    "    'font.size': 16\n",
    "})\n",
    "\n",
    "plt_params = {'linewidth': 2.2}\n"
   ],
   "metadata": {
    "collapsed": false,
    "ExecuteTime": {
     "end_time": "2024-06-28T15:26:49.482253Z",
     "start_time": "2024-06-28T15:26:49.439931Z"
    }
   },
   "id": "a997c29203bab08d"
  },
  {
   "cell_type": "code",
   "execution_count": 15,
   "outputs": [],
   "source": [
    "def plot_ci_plus_heatmap(data, heat, labels, \n",
    "                         color='blue', \n",
    "                         linestyle='-',\n",
    "                         tik_step=10, \n",
    "                         method='gaussian', \n",
    "                         do_lines=True, \n",
    "                         do_colorbar=False, \n",
    "                         shift=0.5, \n",
    "                         nums=[.99, 0.18, 0.025, 0.6],\n",
    "                         labelpad=10,\n",
    "                         plt_params=plt_params):\n",
    "    \n",
    "    fig, (ax, ax2) = plt.subplots(nrows=2, sharex=True, gridspec_kw={'height_ratios': [1, 10]}, figsize=(5, 3))\n",
    "    if do_colorbar:\n",
    "        fig.subplots_adjust(right=0.8) \n",
    "    plot_ci(ax2, data, labels, color=color, linestyle=linestyle, tik_step=tik_step, method=method, do_lines=do_lines, plt_params=plt_params)\n",
    "    \n",
    "    y = np.mean(heat, axis=0)\n",
    "    x = np.arange(np.shape(y)[0])+1\n",
    "\n",
    "    extent = [x[0]-(x[1]-x[0])/2. - shift, x[-1]+(x[1]-x[0])/2. + shift, 0, 1]\n",
    "    img =ax.imshow(y[np.newaxis,:], cmap=\"plasma\", aspect=\"auto\", extent=extent, vmin=0, vmax=14)\n",
    "    ax.set_yticks([])\n",
    "    #ax.set_xlim(extent[0], extent[1])\n",
    "    if do_colorbar:\n",
    "        cbar_ax = fig.add_axes(nums)  # Adjust these values as needed\n",
    "        cbar = plt.colorbar(img, cax=cbar_ax)\n",
    "        cbar.set_label('entropy', rotation=90, labelpad=labelpad)  # Adjust label and properties as needed\n",
    "    plt.tight_layout()\n",
    "    return fig, ax, ax2\n"
   ],
   "metadata": {
    "collapsed": false,
    "ExecuteTime": {
     "end_time": "2024-06-28T15:26:49.491432Z",
     "start_time": "2024-06-28T15:26:49.448474Z"
    }
   },
   "id": "4440c7b51e2680ce"
  },
  {
   "cell_type": "code",
   "execution_count": 16,
   "outputs": [],
   "source": [
    "def plot_ci(ax, data, label, color='blue', linestyle='-', tik_step=10, method='gaussian', do_lines=True, plt_params=plt_params):\n",
    "    if do_lines:\n",
    "        upper = max(round(np.shape(data)[1]/10)*10+1, np.shape(data)[1]+1)\n",
    "        ax.set_xticks(np.arange(0, upper, tik_step))\n",
    "        for i in range(0, upper, tik_step):\n",
    "            ax.axvline(i, color='black', linestyle='--', alpha=0.2, linewidth=1)\n",
    "    if method == 'gaussian':\n",
    "        mean = np.mean(data, axis=0)\n",
    "        std = np.std(data, axis=0)\n",
    "        data_ci = {\n",
    "            'x' : np.arange(np.shape(data)[1])+1,\n",
    "            'y' : mean,\n",
    "            'y_upper' : mean + (1.96/(np.shape(data)[0]**0.5)) * std,\n",
    "            'y_lower' : mean - (1.96/(np.shape(data)[0]**0.5)) * std,\n",
    "        }\n",
    "    elif method == 'np':\n",
    "        data_ci = {\n",
    "            'x' : np.arange(np.shape(data)[1])+1,\n",
    "            'y' : np.quantile(data, 0.5, axis=0),\n",
    "            'y_upper' : np.quantile(data, 0.95, axis=0),\n",
    "            'y_lower' : np.quantile(data, 0.05, axis=0),\n",
    "        }\n",
    "    elif method == 'bootstrap':\n",
    "        bootstrap_ci = bootstrap((data,), np.mean, confidence_level=0.95, method='percentile')\n",
    "        data_ci = {\n",
    "            'x' : np.arange(np.shape(data)[1])+1,\n",
    "            'y' : np.mean(data, axis=0),\n",
    "            'y_upper' : bootstrap_ci.confidence_interval.high,\n",
    "            'y_lower' : bootstrap_ci.confidence_interval.low,\n",
    "        }\n",
    "\n",
    "    else:\n",
    "        raise ValueError('method not implemented')\n",
    "\n",
    "    df = pd.DataFrame(data_ci)\n",
    "    # Create the line plot with confidence intervals\n",
    "    ax.plot(df['x'], df['y'], label=label, color=color, linestyle=linestyle, **plt_params)\n",
    "    ax.fill_between(df['x'], df['y_lower'], df['y_upper'], color=color, alpha=0.3)\n",
    "    ax.spines[['right', 'top']].set_visible(False)"
   ],
   "metadata": {
    "collapsed": false,
    "ExecuteTime": {
     "end_time": "2024-06-28T15:26:49.491805Z",
     "start_time": "2024-06-28T15:26:49.454988Z"
    }
   },
   "id": "5079610317de251f"
  },
  {
   "cell_type": "code",
   "execution_count": 17,
   "outputs": [],
   "source": [
    "def read_json(path_name: str):\n",
    "    with open(path_name, \"r\") as f:\n",
    "        json_file = json.load(f)\n",
    "    return json_file\n"
   ],
   "metadata": {
    "collapsed": false,
    "ExecuteTime": {
     "end_time": "2024-06-28T15:26:49.491898Z",
     "start_time": "2024-06-28T15:26:49.457900Z"
    }
   },
   "id": "7d2ee122b0a41597"
  },
  {
   "cell_type": "markdown",
   "source": [
    "## Plotting"
   ],
   "metadata": {
    "collapsed": false
   },
   "id": "3e335538e5a778b3"
  },
  {
   "cell_type": "code",
   "execution_count": 18,
   "outputs": [],
   "source": [
    "def plot_probs(\n",
    "        source_lang, \n",
    "        target_lang,\n",
    "        backbone_lang,\n",
    "        model_name,\n",
    "        out_dir,\n",
    "        \n",
    "        latent_token_probs, \n",
    "        entropy,\n",
    "        out_token_probs,\n",
    "        **kwargs\n",
    "):\n",
    "    fig, ax, ax2 = plot_ci_plus_heatmap(\n",
    "        latent_token_probs, \n",
    "        entropy, \n",
    "        backbone_lang, \n",
    "        color='tab:orange', \n",
    "        tik_step=8, \n",
    "        do_colorbar=True,\n",
    "        nums=[.99, 0.18, 0.025, 0.6]\n",
    "    )\n",
    "    \n",
    "    if target_lang != 'en':\n",
    "        plot_ci(ax2, out_token_probs, target_lang, color='tab:blue', do_lines=False)\n",
    "    \n",
    "    # _prob_max_1 = np.mean(latent_token_probs, axis=0)\n",
    "    # _prob_max_2 = np.mean(out_token_probs, axis=0)\n",
    "    # _prob_max = np.mean(np.maximum(_prob_max_1, _prob_max_2), axis=0)\n",
    "    # _prob_max = max(1.25*_prob_max, 0.4)\n",
    "    # ylim_max = min(_prob_max, 1)\n",
    "        \n",
    "    ax2.set_xlabel('layer')\n",
    "    ax2.set_ylabel('probability')\n",
    "    ax2.set_xlim(0, round(np.shape(out_token_probs)[1]/10)*10+1)\n",
    "    ax2.set_ylim(0, 1)\n",
    "    ax2.legend(loc='upper left')\n",
    "    \n",
    "    save_dir = os.path.join(out_dir, model_name, \"translation\", \"prob\")\n",
    "    file_name = f\"{source_lang}-{backbone_lang}-{target_lang}.pdf\"\n",
    "    save_path = os.path.join(save_dir, file_name)\n",
    "    \n",
    "    os.makedirs(save_dir, exist_ok=True)    \n",
    "    plt.savefig(save_path, dpi=300, bbox_inches='tight')\n",
    "    plt.close()"
   ],
   "metadata": {
    "collapsed": false,
    "ExecuteTime": {
     "end_time": "2024-06-28T15:26:49.492167Z",
     "start_time": "2024-06-28T15:26:49.461676Z"
    }
   },
   "id": "d11290a61a9c5cc9"
  },
  {
   "cell_type": "code",
   "execution_count": 19,
   "outputs": [],
   "source": [
    "def plot_energy(\n",
    "        source_lang, \n",
    "        target_lang,\n",
    "        backbone_lang,\n",
    "        model_name,\n",
    "        out_dir,\n",
    "        \n",
    "        energy,\n",
    "        out_token_probs,\n",
    "        **kwargs\n",
    "):\n",
    "    fig, ax = plt.subplots(figsize=(5,3))\n",
    "    plot_ci(ax, energy, 'energy', color='tab:green', do_lines=True, tik_step=5)\n",
    "    \n",
    "    ax.set_xlabel('layer')\n",
    "    ax.set_ylabel('energy')\n",
    "    ax.set_xlim(0, round(np.shape(out_token_probs)[1]/10)*10+1)\n",
    "    \n",
    "    save_dir = os.path.join(out_dir, model_name, \"translation\", \"energy\")\n",
    "    file_name = f\"{source_lang}-{target_lang}.pdf\"\n",
    "    save_path = os.path.join(save_dir, file_name)\n",
    "    \n",
    "    os.makedirs(save_dir, exist_ok=True)    \n",
    "    plt.savefig(save_path, dpi=300, bbox_inches='tight')\n",
    "    plt.close()\n",
    "    "
   ],
   "metadata": {
    "collapsed": false,
    "ExecuteTime": {
     "end_time": "2024-06-28T15:26:49.492285Z",
     "start_time": "2024-06-28T15:26:49.465363Z"
    }
   },
   "id": "2f9beea612f942d1"
  },
  {
   "cell_type": "markdown",
   "source": [
    "# Visualize"
   ],
   "metadata": {
    "collapsed": false
   },
   "id": "d63c70af0baf2738"
  },
  {
   "cell_type": "code",
   "execution_count": 20,
   "outputs": [],
   "source": [
    "def metadata_from_path(path: str):\n",
    "    path = path.lower()\n",
    "    config = {}\n",
    "    if \"llama3\" in path:\n",
    "        config['model_name'] = \"llama3\"\n",
    "    elif \"llama2\" in path:\n",
    "        config['model_name'] = \"llama2\"\n",
    "    else:\n",
    "        raise ValueError('model name not found')\n",
    "    \n",
    "    base_name = os.path.basename(path)\n",
    "    base_name = base_name[:base_name.find(\".json\")]\n",
    "    base_name = base_name.split(\" \")\n",
    "    config['source_lang'] = base_name[0]\n",
    "    config['target_lang'] = base_name[2]\n",
    "    \n",
    "    for b in path.split(os.path.sep):\n",
    "        if 'latent' in b:\n",
    "            config['backbone_lang'] = b.split(\" \")[1]\n",
    "            break\n",
    "    if 'backbone_lang' not in config:\n",
    "        raise ValueError('backbone language not found')\n",
    "    return config"
   ],
   "metadata": {
    "collapsed": false,
    "ExecuteTime": {
     "end_time": "2024-06-28T15:26:49.492509Z",
     "start_time": "2024-06-28T15:26:49.468673Z"
    }
   },
   "id": "619e5177ebbdd2ba"
  },
  {
   "cell_type": "code",
   "execution_count": 21,
   "outputs": [],
   "source": [
    "paths = glob.glob(os.path.join(START_DIR, \"./**\", \"*.json\"), recursive=True)\n",
    "paths = [str(p) for p in paths]"
   ],
   "metadata": {
    "collapsed": false,
    "ExecuteTime": {
     "end_time": "2024-06-28T15:26:49.492596Z",
     "start_time": "2024-06-28T15:26:49.470965Z"
    }
   },
   "id": "9b490bde6cd3868d"
  },
  {
   "cell_type": "code",
   "execution_count": 22,
   "outputs": [
    {
     "name": "stderr",
     "output_type": "stream",
     "text": [
      "100%|██████████| 371/371 [00:41<00:00,  9.04it/s]\n"
     ]
    }
   ],
   "source": [
    "for path in tqdm(paths):\n",
    "    metadata = metadata_from_path(path)\n",
    "    data = read_json(path)\n",
    "    if len(data[\"entropy\"]) < 1:\n",
    "        continue\n",
    "    plot_probs(**metadata, **data, out_dir=\"../visuals/\")\n",
    "    plot_energy(**metadata, **data, out_dir=\"../visuals/\")"
   ],
   "metadata": {
    "collapsed": false,
    "ExecuteTime": {
     "end_time": "2024-06-28T15:27:30.541256Z",
     "start_time": "2024-06-28T15:26:49.475947Z"
    }
   },
   "id": "9935e60ac772d1f9"
  },
  {
   "cell_type": "code",
   "execution_count": 22,
   "outputs": [],
   "source": [],
   "metadata": {
    "collapsed": false,
    "ExecuteTime": {
     "end_time": "2024-06-28T15:27:30.541621Z",
     "start_time": "2024-06-28T15:27:30.537930Z"
    }
   },
   "id": "858fce6387cfa0f9"
  }
 ],
 "metadata": {
  "kernelspec": {
   "display_name": "Python 3",
   "language": "python",
   "name": "python3"
  },
  "language_info": {
   "codemirror_mode": {
    "name": "ipython",
    "version": 2
   },
   "file_extension": ".py",
   "mimetype": "text/x-python",
   "name": "python",
   "nbconvert_exporter": "python",
   "pygments_lexer": "ipython2",
   "version": "2.7.6"
  }
 },
 "nbformat": 4,
 "nbformat_minor": 5
}
